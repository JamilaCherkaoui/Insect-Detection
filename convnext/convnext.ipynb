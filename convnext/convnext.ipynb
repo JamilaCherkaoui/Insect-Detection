{
  "cells": [
    {
      "cell_type": "code",
      "source": [
        "from google.colab import drive\n",
        "drive.mount('/content/drive')"
      ],
      "metadata": {
        "colab": {
          "base_uri": "https://localhost:8080/"
        },
        "id": "BVfq6BdSyOfg",
        "outputId": "dd4274e9-33b3-459a-83d5-317592a54a10"
      },
      "execution_count": 2,
      "outputs": [
        {
          "output_type": "stream",
          "name": "stdout",
          "text": [
            "Drive already mounted at /content/drive; to attempt to forcibly remount, call drive.mount(\"/content/drive\", force_remount=True).\n"
          ]
        }
      ]
    },
    {
      "cell_type": "markdown",
      "source": [
        "# mod\n"
      ],
      "metadata": {
        "id": "Zt2g13NCIYtU"
      }
    },
    {
      "cell_type": "code",
      "source": [
        "!pip install timm"
      ],
      "metadata": {
        "colab": {
          "base_uri": "https://localhost:8080/",
          "height": 1000
        },
        "id": "t-eeO6aKywTs",
        "outputId": "bea0f992-fcf9-4dcc-bc6f-4ca7c7ea5bcd",
        "collapsed": true
      },
      "execution_count": 3,
      "outputs": [
        {
          "output_type": "stream",
          "name": "stdout",
          "text": [
            "Requirement already satisfied: timm in /usr/local/lib/python3.11/dist-packages (1.0.15)\n",
            "Requirement already satisfied: torch in /usr/local/lib/python3.11/dist-packages (from timm) (2.6.0+cu124)\n",
            "Requirement already satisfied: torchvision in /usr/local/lib/python3.11/dist-packages (from timm) (0.21.0+cu124)\n",
            "Requirement already satisfied: pyyaml in /usr/local/lib/python3.11/dist-packages (from timm) (6.0.2)\n",
            "Requirement already satisfied: huggingface_hub in /usr/local/lib/python3.11/dist-packages (from timm) (0.29.3)\n",
            "Requirement already satisfied: safetensors in /usr/local/lib/python3.11/dist-packages (from timm) (0.5.3)\n",
            "Requirement already satisfied: filelock in /usr/local/lib/python3.11/dist-packages (from huggingface_hub->timm) (3.18.0)\n",
            "Requirement already satisfied: fsspec>=2023.5.0 in /usr/local/lib/python3.11/dist-packages (from huggingface_hub->timm) (2025.3.0)\n",
            "Requirement already satisfied: packaging>=20.9 in /usr/local/lib/python3.11/dist-packages (from huggingface_hub->timm) (24.2)\n",
            "Requirement already satisfied: requests in /usr/local/lib/python3.11/dist-packages (from huggingface_hub->timm) (2.32.3)\n",
            "Requirement already satisfied: tqdm>=4.42.1 in /usr/local/lib/python3.11/dist-packages (from huggingface_hub->timm) (4.67.1)\n",
            "Requirement already satisfied: typing-extensions>=3.7.4.3 in /usr/local/lib/python3.11/dist-packages (from huggingface_hub->timm) (4.13.0)\n",
            "Requirement already satisfied: networkx in /usr/local/lib/python3.11/dist-packages (from torch->timm) (3.4.2)\n",
            "Requirement already satisfied: jinja2 in /usr/local/lib/python3.11/dist-packages (from torch->timm) (3.1.6)\n",
            "Collecting nvidia-cuda-nvrtc-cu12==12.4.127 (from torch->timm)\n",
            "  Downloading nvidia_cuda_nvrtc_cu12-12.4.127-py3-none-manylinux2014_x86_64.whl.metadata (1.5 kB)\n",
            "Collecting nvidia-cuda-runtime-cu12==12.4.127 (from torch->timm)\n",
            "  Downloading nvidia_cuda_runtime_cu12-12.4.127-py3-none-manylinux2014_x86_64.whl.metadata (1.5 kB)\n",
            "Collecting nvidia-cuda-cupti-cu12==12.4.127 (from torch->timm)\n",
            "  Downloading nvidia_cuda_cupti_cu12-12.4.127-py3-none-manylinux2014_x86_64.whl.metadata (1.6 kB)\n",
            "Collecting nvidia-cudnn-cu12==9.1.0.70 (from torch->timm)\n",
            "  Downloading nvidia_cudnn_cu12-9.1.0.70-py3-none-manylinux2014_x86_64.whl.metadata (1.6 kB)\n",
            "Collecting nvidia-cublas-cu12==12.4.5.8 (from torch->timm)\n",
            "  Downloading nvidia_cublas_cu12-12.4.5.8-py3-none-manylinux2014_x86_64.whl.metadata (1.5 kB)\n",
            "Collecting nvidia-cufft-cu12==11.2.1.3 (from torch->timm)\n",
            "  Downloading nvidia_cufft_cu12-11.2.1.3-py3-none-manylinux2014_x86_64.whl.metadata (1.5 kB)\n",
            "Collecting nvidia-curand-cu12==10.3.5.147 (from torch->timm)\n",
            "  Downloading nvidia_curand_cu12-10.3.5.147-py3-none-manylinux2014_x86_64.whl.metadata (1.5 kB)\n",
            "Collecting nvidia-cusolver-cu12==11.6.1.9 (from torch->timm)\n",
            "  Downloading nvidia_cusolver_cu12-11.6.1.9-py3-none-manylinux2014_x86_64.whl.metadata (1.6 kB)\n",
            "Collecting nvidia-cusparse-cu12==12.3.1.170 (from torch->timm)\n",
            "  Downloading nvidia_cusparse_cu12-12.3.1.170-py3-none-manylinux2014_x86_64.whl.metadata (1.6 kB)\n",
            "Requirement already satisfied: nvidia-cusparselt-cu12==0.6.2 in /usr/local/lib/python3.11/dist-packages (from torch->timm) (0.6.2)\n",
            "Requirement already satisfied: nvidia-nccl-cu12==2.21.5 in /usr/local/lib/python3.11/dist-packages (from torch->timm) (2.21.5)\n",
            "Requirement already satisfied: nvidia-nvtx-cu12==12.4.127 in /usr/local/lib/python3.11/dist-packages (from torch->timm) (12.4.127)\n",
            "Collecting nvidia-nvjitlink-cu12==12.4.127 (from torch->timm)\n",
            "  Downloading nvidia_nvjitlink_cu12-12.4.127-py3-none-manylinux2014_x86_64.whl.metadata (1.5 kB)\n",
            "Requirement already satisfied: triton==3.2.0 in /usr/local/lib/python3.11/dist-packages (from torch->timm) (3.2.0)\n",
            "Requirement already satisfied: sympy==1.13.1 in /usr/local/lib/python3.11/dist-packages (from torch->timm) (1.13.1)\n",
            "Requirement already satisfied: mpmath<1.4,>=1.1.0 in /usr/local/lib/python3.11/dist-packages (from sympy==1.13.1->torch->timm) (1.3.0)\n",
            "Requirement already satisfied: numpy in /usr/local/lib/python3.11/dist-packages (from torchvision->timm) (2.0.2)\n",
            "Requirement already satisfied: pillow!=8.3.*,>=5.3.0 in /usr/local/lib/python3.11/dist-packages (from torchvision->timm) (11.1.0)\n",
            "Requirement already satisfied: MarkupSafe>=2.0 in /usr/local/lib/python3.11/dist-packages (from jinja2->torch->timm) (3.0.2)\n",
            "Requirement already satisfied: charset-normalizer<4,>=2 in /usr/local/lib/python3.11/dist-packages (from requests->huggingface_hub->timm) (3.4.1)\n",
            "Requirement already satisfied: idna<4,>=2.5 in /usr/local/lib/python3.11/dist-packages (from requests->huggingface_hub->timm) (3.10)\n",
            "Requirement already satisfied: urllib3<3,>=1.21.1 in /usr/local/lib/python3.11/dist-packages (from requests->huggingface_hub->timm) (2.3.0)\n",
            "Requirement already satisfied: certifi>=2017.4.17 in /usr/local/lib/python3.11/dist-packages (from requests->huggingface_hub->timm) (2025.1.31)\n",
            "Downloading nvidia_cublas_cu12-12.4.5.8-py3-none-manylinux2014_x86_64.whl (363.4 MB)\n",
            "\u001b[2K   \u001b[90m━━━━━━━━━━━━━━━━━━━━━━━━━━━━━━━━━━━━━━━━\u001b[0m \u001b[32m363.4/363.4 MB\u001b[0m \u001b[31m1.4 MB/s\u001b[0m eta \u001b[36m0:00:00\u001b[0m\n",
            "\u001b[?25hDownloading nvidia_cuda_cupti_cu12-12.4.127-py3-none-manylinux2014_x86_64.whl (13.8 MB)\n",
            "\u001b[2K   \u001b[90m━━━━━━━━━━━━━━━━━━━━━━━━━━━━━━━━━━━━━━━━\u001b[0m \u001b[32m13.8/13.8 MB\u001b[0m \u001b[31m103.5 MB/s\u001b[0m eta \u001b[36m0:00:00\u001b[0m\n",
            "\u001b[?25hDownloading nvidia_cuda_nvrtc_cu12-12.4.127-py3-none-manylinux2014_x86_64.whl (24.6 MB)\n",
            "\u001b[2K   \u001b[90m━━━━━━━━━━━━━━━━━━━━━━━━━━━━━━━━━━━━━━━━\u001b[0m \u001b[32m24.6/24.6 MB\u001b[0m \u001b[31m79.2 MB/s\u001b[0m eta \u001b[36m0:00:00\u001b[0m\n",
            "\u001b[?25hDownloading nvidia_cuda_runtime_cu12-12.4.127-py3-none-manylinux2014_x86_64.whl (883 kB)\n",
            "\u001b[2K   \u001b[90m━━━━━━━━━━━━━━━━━━━━━━━━━━━━━━━━━━━━━━━━\u001b[0m \u001b[32m883.7/883.7 kB\u001b[0m \u001b[31m55.2 MB/s\u001b[0m eta \u001b[36m0:00:00\u001b[0m\n",
            "\u001b[?25hDownloading nvidia_cudnn_cu12-9.1.0.70-py3-none-manylinux2014_x86_64.whl (664.8 MB)\n",
            "\u001b[2K   \u001b[90m━━━━━━━━━━━━━━━━━━━━━━━━━━━━━━━━━━━━━━━━\u001b[0m \u001b[32m664.8/664.8 MB\u001b[0m \u001b[31m1.9 MB/s\u001b[0m eta \u001b[36m0:00:00\u001b[0m\n",
            "\u001b[?25hDownloading nvidia_cufft_cu12-11.2.1.3-py3-none-manylinux2014_x86_64.whl (211.5 MB)\n",
            "\u001b[2K   \u001b[90m━━━━━━━━━━━━━━━━━━━━━━━━━━━━━━━━━━━━━━━━\u001b[0m \u001b[32m211.5/211.5 MB\u001b[0m \u001b[31m4.3 MB/s\u001b[0m eta \u001b[36m0:00:00\u001b[0m\n",
            "\u001b[?25hDownloading nvidia_curand_cu12-10.3.5.147-py3-none-manylinux2014_x86_64.whl (56.3 MB)\n",
            "\u001b[2K   \u001b[90m━━━━━━━━━━━━━━━━━━━━━━━━━━━━━━━━━━━━━━━━\u001b[0m \u001b[32m56.3/56.3 MB\u001b[0m \u001b[31m14.0 MB/s\u001b[0m eta \u001b[36m0:00:00\u001b[0m\n",
            "\u001b[?25hDownloading nvidia_cusolver_cu12-11.6.1.9-py3-none-manylinux2014_x86_64.whl (127.9 MB)\n",
            "\u001b[2K   \u001b[90m━━━━━━━━━━━━━━━━━━━━━━━━━━━━━━━━━━━━━━━━\u001b[0m \u001b[32m127.9/127.9 MB\u001b[0m \u001b[31m7.7 MB/s\u001b[0m eta \u001b[36m0:00:00\u001b[0m\n",
            "\u001b[?25hDownloading nvidia_cusparse_cu12-12.3.1.170-py3-none-manylinux2014_x86_64.whl (207.5 MB)\n",
            "\u001b[2K   \u001b[90m━━━━━━━━━━━━━━━━━━━━━━━━━━━━━━━━━━━━━━━━\u001b[0m \u001b[32m207.5/207.5 MB\u001b[0m \u001b[31m5.9 MB/s\u001b[0m eta \u001b[36m0:00:00\u001b[0m\n",
            "\u001b[?25hDownloading nvidia_nvjitlink_cu12-12.4.127-py3-none-manylinux2014_x86_64.whl (21.1 MB)\n",
            "\u001b[2K   \u001b[90m━━━━━━━━━━━━━━━━━━━━━━━━━━━━━━━━━━━━━━━━\u001b[0m \u001b[32m21.1/21.1 MB\u001b[0m \u001b[31m88.8 MB/s\u001b[0m eta \u001b[36m0:00:00\u001b[0m\n",
            "\u001b[?25hInstalling collected packages: nvidia-nvjitlink-cu12, nvidia-curand-cu12, nvidia-cufft-cu12, nvidia-cuda-runtime-cu12, nvidia-cuda-nvrtc-cu12, nvidia-cuda-cupti-cu12, nvidia-cublas-cu12, nvidia-cusparse-cu12, nvidia-cudnn-cu12, nvidia-cusolver-cu12\n",
            "  Attempting uninstall: nvidia-nvjitlink-cu12\n",
            "    Found existing installation: nvidia-nvjitlink-cu12 12.5.82\n",
            "    Uninstalling nvidia-nvjitlink-cu12-12.5.82:\n",
            "      Successfully uninstalled nvidia-nvjitlink-cu12-12.5.82\n",
            "  Attempting uninstall: nvidia-curand-cu12\n",
            "    Found existing installation: nvidia-curand-cu12 10.3.6.82\n",
            "    Uninstalling nvidia-curand-cu12-10.3.6.82:\n",
            "      Successfully uninstalled nvidia-curand-cu12-10.3.6.82\n",
            "  Attempting uninstall: nvidia-cufft-cu12\n",
            "    Found existing installation: nvidia-cufft-cu12 11.2.3.61\n",
            "    Uninstalling nvidia-cufft-cu12-11.2.3.61:\n",
            "      Successfully uninstalled nvidia-cufft-cu12-11.2.3.61\n",
            "  Attempting uninstall: nvidia-cuda-runtime-cu12\n",
            "    Found existing installation: nvidia-cuda-runtime-cu12 12.5.82\n",
            "    Uninstalling nvidia-cuda-runtime-cu12-12.5.82:\n",
            "      Successfully uninstalled nvidia-cuda-runtime-cu12-12.5.82\n",
            "  Attempting uninstall: nvidia-cuda-nvrtc-cu12\n",
            "    Found existing installation: nvidia-cuda-nvrtc-cu12 12.5.82\n",
            "    Uninstalling nvidia-cuda-nvrtc-cu12-12.5.82:\n",
            "      Successfully uninstalled nvidia-cuda-nvrtc-cu12-12.5.82\n",
            "  Attempting uninstall: nvidia-cuda-cupti-cu12\n",
            "    Found existing installation: nvidia-cuda-cupti-cu12 12.5.82\n",
            "    Uninstalling nvidia-cuda-cupti-cu12-12.5.82:\n",
            "      Successfully uninstalled nvidia-cuda-cupti-cu12-12.5.82\n",
            "  Attempting uninstall: nvidia-cublas-cu12\n",
            "    Found existing installation: nvidia-cublas-cu12 12.5.3.2\n",
            "    Uninstalling nvidia-cublas-cu12-12.5.3.2:\n",
            "      Successfully uninstalled nvidia-cublas-cu12-12.5.3.2\n",
            "  Attempting uninstall: nvidia-cusparse-cu12\n",
            "    Found existing installation: nvidia-cusparse-cu12 12.5.1.3\n",
            "    Uninstalling nvidia-cusparse-cu12-12.5.1.3:\n",
            "      Successfully uninstalled nvidia-cusparse-cu12-12.5.1.3\n",
            "  Attempting uninstall: nvidia-cudnn-cu12\n",
            "    Found existing installation: nvidia-cudnn-cu12 9.3.0.75\n",
            "    Uninstalling nvidia-cudnn-cu12-9.3.0.75:\n",
            "      Successfully uninstalled nvidia-cudnn-cu12-9.3.0.75\n",
            "  Attempting uninstall: nvidia-cusolver-cu12\n",
            "    Found existing installation: nvidia-cusolver-cu12 11.6.3.83\n",
            "    Uninstalling nvidia-cusolver-cu12-11.6.3.83:\n",
            "      Successfully uninstalled nvidia-cusolver-cu12-11.6.3.83\n",
            "Successfully installed nvidia-cublas-cu12-12.4.5.8 nvidia-cuda-cupti-cu12-12.4.127 nvidia-cuda-nvrtc-cu12-12.4.127 nvidia-cuda-runtime-cu12-12.4.127 nvidia-cudnn-cu12-9.1.0.70 nvidia-cufft-cu12-11.2.1.3 nvidia-curand-cu12-10.3.5.147 nvidia-cusolver-cu12-11.6.1.9 nvidia-cusparse-cu12-12.3.1.170 nvidia-nvjitlink-cu12-12.4.127\n"
          ]
        },
        {
          "output_type": "display_data",
          "data": {
            "application/vnd.colab-display-data+json": {
              "pip_warning": {
                "packages": [
                  "nvidia"
                ]
              },
              "id": "2e8f0461d6d947c0b46072a0b9d8940c"
            }
          },
          "metadata": {}
        }
      ]
    },
    {
      "cell_type": "code",
      "source": [
        "import torch\n",
        "import torch.nn as nn\n",
        "import torch.optim as optim\n",
        "import timm\n",
        "import numpy as np\n",
        "import os\n",
        "from torch.utils.data import DataLoader\n",
        "from sklearn.utils.class_weight import compute_class_weight\n",
        "from tqdm import tqdm\n",
        "import copy\n",
        "\n",
        "# Pour MixUp / CutMix (inclus dans timm.data.mixup)\n",
        "from timm.data import Mixup\n",
        "from timm.loss import SoftTargetCrossEntropy\n"
      ],
      "metadata": {
        "id": "C7lkGzMpzlKw"
      },
      "execution_count": 3,
      "outputs": []
    },
    {
      "cell_type": "code",
      "source": [
        "import albumentations as A\n",
        "from albumentations.pytorch import ToTensorV2\n",
        "from PIL import Image\n",
        "\n",
        "class ImageLabelDataset(torch.utils.data.Dataset):\n",
        "    def __init__(self, image_dir, image_filenames, transform=None, size=(300,300)):\n",
        "        self.image_dir = image_dir\n",
        "        self.image_filenames = image_filenames\n",
        "        self.transform = transform\n",
        "        self.size = size\n",
        "\n",
        "    def __len__(self):\n",
        "        return len(self.image_filenames)\n",
        "\n",
        "    def __getitem__(self, idx):\n",
        "        fname = self.image_filenames[idx]\n",
        "        # Extraire label (même logique que chez vous)\n",
        "        vote = fname.split('-')[1]\n",
        "        label = int(vote.split('_')[0])\n",
        "\n",
        "        path = os.path.join(self.image_dir, fname)\n",
        "        img = Image.open(path).convert(\"RGB\").resize(self.size)\n",
        "\n",
        "        img = np.array(img)\n",
        "        if self.transform:\n",
        "            img = self.transform(image=img)[\"image\"]\n",
        "        return img, label\n",
        "\n",
        "# Exemple de transformations Albumentations\n",
        "train_transform = A.Compose([\n",
        "    A.HorizontalFlip(p=0.5),\n",
        "    A.VerticalFlip(p=0.5),\n",
        "    A.RandomBrightnessContrast(p=0.2),\n",
        "    A.ElasticTransform(p=0.2),\n",
        "    A.GridDistortion(p=0.2),\n",
        "    A.OpticalDistortion(p=0.2),\n",
        "    A.CoarseDropout(max_holes=8, max_height=16, max_width=16, p=0.5),\n",
        "    A.ColorJitter(p=0.3),\n",
        "    A.Normalize(),\n",
        "    ToTensorV2()\n",
        "])\n",
        "\n",
        "val_transform = A.Compose([\n",
        "    A.Normalize(),\n",
        "    ToTensorV2()\n",
        "])\n"
      ],
      "metadata": {
        "colab": {
          "base_uri": "https://localhost:8080/"
        },
        "id": "5BoE2gXkzwA2",
        "outputId": "e67867f0-14b3-42be-8f37-5ca63c28b2b5"
      },
      "execution_count": 4,
      "outputs": [
        {
          "output_type": "stream",
          "name": "stderr",
          "text": [
            "<ipython-input-4-ade9d3441f57>:37: UserWarning: Argument(s) 'max_holes, max_height, max_width' are not valid for transform CoarseDropout\n",
            "  A.CoarseDropout(max_holes=8, max_height=16, max_width=16, p=0.5),\n"
          ]
        }
      ]
    },
    {
      "cell_type": "code",
      "source": [
        "from sklearn.model_selection import train_test_split\n",
        "\n",
        "image_dir = \"/content/drive/MyDrive/base_sure_enrish\"\n",
        "all_images = [f for f in os.listdir(image_dir) if f.endswith(\".jpg\")]\n",
        "\n",
        "train_files, val_files = train_test_split(all_images, test_size=0.2, random_state=42)\n",
        "\n",
        "train_dataset = ImageLabelDataset(image_dir, train_files, transform=train_transform, size=(300,300))\n",
        "val_dataset   = ImageLabelDataset(image_dir, val_files,   transform=val_transform,   size=(300,300))\n",
        "\n",
        "train_loader = DataLoader(train_dataset, batch_size=16, shuffle=True, num_workers=2)\n",
        "val_loader   = DataLoader(val_dataset,   batch_size=16, shuffle=False, num_workers=2)\n"
      ],
      "metadata": {
        "id": "PX3mrBcbz4Rl"
      },
      "execution_count": 5,
      "outputs": []
    },
    {
      "cell_type": "code",
      "source": [
        "NUM_CLASSES = 9\n",
        "model = timm.create_model(\n",
        "    'convnext_base',       # vous pouvez essayer convnext_large, convnext_tiny, etc.\n",
        "    pretrained=True,\n",
        "    num_classes=NUM_CLASSES\n",
        ")\n"
      ],
      "metadata": {
        "colab": {
          "base_uri": "https://localhost:8080/",
          "height": 176,
          "referenced_widgets": [
            "645f84f6ee034174a95d1e783b03821c",
            "0fb4eb39a32d4ccc8a6a746e9bad42b9",
            "778e6e7ea2134030866c8c4fcb90799e",
            "e7037a9471014fbe9e769cfc484e0199",
            "a724eb97b3b14c45b7b947e8cecc6e39",
            "490d0277e1ae401796f247b786ec370f",
            "76ad502da13f465b82c80a0d48748037",
            "fd81b1252d294237bdbe822eba1ef8e0",
            "f9adf23f53e9447583dbcfff620788dd",
            "8f500f37e9ff46009f1bcf7977cf7973",
            "55ea3ad9d06e47eca8e2b259f519b829"
          ]
        },
        "id": "U6IKsopg0OgB",
        "outputId": "cea0c66f-7556-4aba-c34a-6a1e9c02253a"
      },
      "execution_count": 6,
      "outputs": [
        {
          "output_type": "stream",
          "name": "stderr",
          "text": [
            "/usr/local/lib/python3.11/dist-packages/huggingface_hub/utils/_auth.py:94: UserWarning: \n",
            "The secret `HF_TOKEN` does not exist in your Colab secrets.\n",
            "To authenticate with the Hugging Face Hub, create a token in your settings tab (https://huggingface.co/settings/tokens), set it as secret in your Google Colab and restart your session.\n",
            "You will be able to reuse this secret in all of your notebooks.\n",
            "Please note that authentication is recommended but still optional to access public models or datasets.\n",
            "  warnings.warn(\n"
          ]
        },
        {
          "output_type": "display_data",
          "data": {
            "text/plain": [
              "model.safetensors:   0%|          | 0.00/354M [00:00<?, ?B/s]"
            ],
            "application/vnd.jupyter.widget-view+json": {
              "version_major": 2,
              "version_minor": 0,
              "model_id": "645f84f6ee034174a95d1e783b03821c"
            }
          },
          "metadata": {}
        }
      ]
    },
    {
      "cell_type": "code",
      "source": [
        "device = torch.device(\"cuda\" if torch.cuda.is_available() else \"cpu\")\n",
        "model = model.to(device)\n"
      ],
      "metadata": {
        "id": "OJTlhmsc0Tcw"
      },
      "execution_count": 8,
      "outputs": []
    },
    {
      "cell_type": "code",
      "source": [
        "mixup_fn = Mixup(\n",
        "    mixup_alpha=0.2,      # alpha param pour MixUp\n",
        "    cutmix_alpha=1.0,     # alpha param pour CutMix\n",
        "    cutmix_minmax=None,\n",
        "    prob=1.0,             # probabilité d’appliquer MixUp/CutMix\n",
        "    switch_prob=0.5,      # probabilité de switch entre MixUp ou CutMix\n",
        "    mode='batch',\n",
        "    label_smoothing=0.0,\n",
        "    num_classes=NUM_CLASSES\n",
        ")\n"
      ],
      "metadata": {
        "id": "ALybJLPN0W0a"
      },
      "execution_count": 10,
      "outputs": []
    },
    {
      "cell_type": "code",
      "source": [
        "criterion = timm.loss.SoftTargetCrossEntropy()\n"
      ],
      "metadata": {
        "id": "7nLxtgDu0ZZd"
      },
      "execution_count": null,
      "outputs": []
    },
    {
      "cell_type": "code",
      "source": [
        "optimizer = optim.AdamW(model.parameters(), lr=1e-4, weight_decay=1e-5)\n",
        "\n",
        "# Option 1 : Cosine Annealing\n",
        "scheduler = optim.lr_scheduler.CosineAnnealingLR(optimizer, T_max=20, eta_min=1e-6)\n",
        "\n",
        "# (ou Option 2 : OneCycleLR, etc.)\n"
      ],
      "metadata": {
        "id": "y9P6mutP0cFd"
      },
      "execution_count": null,
      "outputs": []
    },
    {
      "cell_type": "code",
      "source": [
        "EPOCHS = 50\n",
        "best_val_loss = float('inf')\n",
        "best_weights = None\n",
        "patience = 10\n",
        "patience_counter = 0\n",
        "\n",
        "train_losses = []\n",
        "val_losses   = []\n",
        "val_accs     = []\n",
        "\n",
        "for epoch in range(EPOCHS):\n",
        "    print(f\"\\nEpoch [{epoch+1}/{EPOCHS}]\")\n",
        "\n",
        "    # === Phase d'entraînement ===\n",
        "    model.train()\n",
        "    running_loss = 0.0\n",
        "    for images, labels in tqdm(train_loader):\n",
        "        images, labels = images.to(device), labels.to(device)\n",
        "\n",
        "        # Appliquer MixUp / CutMix\n",
        "        mixed_images, mixed_labels = mixup_fn(images, labels)\n",
        "\n",
        "        optimizer.zero_grad()\n",
        "        outputs = model(mixed_images)\n",
        "        loss = criterion(outputs, mixed_labels)  # SoftTargetCrossEntropy attend des labels \"mélangés\"\n",
        "        loss.backward()\n",
        "        optimizer.step()\n",
        "\n",
        "        running_loss += loss.item()\n",
        "\n",
        "    train_loss = running_loss / len(train_loader)\n",
        "    train_losses.append(train_loss)\n",
        "\n",
        "    # === Phase de validation ===\n",
        "    model.eval()\n",
        "    val_loss = 0.0\n",
        "    correct = 0\n",
        "    total = 0\n",
        "\n",
        "    with torch.no_grad():\n",
        "        for images, labels in val_loader:\n",
        "            images = images.to(device)\n",
        "            labels = labels.to(device)\n",
        "\n",
        "            outputs = model(images)\n",
        "            # Pour la validation, on n'a pas de MixUp => on revient à du cross-entropy standard\n",
        "            # Si vous tenez absolument à réutiliser SoftTargetCE, vous pouvez one-hot vos labels\n",
        "            loss_ce = nn.CrossEntropyLoss()(outputs, labels)\n",
        "            val_loss += loss_ce.item()\n",
        "\n",
        "            # Calcul de l'accuracy\n",
        "            _, preds = torch.max(outputs, dim=1)\n",
        "            correct += (preds == labels).sum().item()\n",
        "            total += labels.size(0)\n",
        "\n",
        "    val_loss /= len(val_loader)\n",
        "    accuracy = 100.0 * correct / total\n",
        "    val_losses.append(val_loss)\n",
        "    val_accs.append(accuracy)\n",
        "\n",
        "    print(f\"Train Loss: {train_loss:.4f} | Val Loss: {val_loss:.4f} | Val Acc: {accuracy:.2f}%\")\n",
        "\n",
        "    # Scheduler update\n",
        "    scheduler.step()\n",
        "\n",
        "    # Early stopping condition (basé sur la val_loss)\n",
        "    if val_loss < best_val_loss:\n",
        "        best_val_loss = val_loss\n",
        "        best_weights = copy.deepcopy(model.state_dict())\n",
        "        patience_counter = 0\n",
        "    else:\n",
        "        patience_counter += 1\n",
        "        if patience_counter >= patience:\n",
        "            print(\"Early stopping triggered.\")\n",
        "            break\n",
        "\n",
        "# Charger les meilleurs poids\n",
        "model.load_state_dict(best_weights)\n",
        "print(\"Meilleur modèle chargé (val_loss min).\")\n"
      ],
      "metadata": {
        "colab": {
          "base_uri": "https://localhost:8080/"
        },
        "id": "9Ldf8s2j0eud",
        "outputId": "9ba1dbb0-725c-4673-fcd3-2a50b9ac5f1f"
      },
      "execution_count": null,
      "outputs": [
        {
          "metadata": {
            "tags": null
          },
          "name": "stdout",
          "output_type": "stream",
          "text": [
            "\n",
            "Epoch [1/50]\n"
          ]
        },
        {
          "metadata": {
            "tags": null
          },
          "name": "stderr",
          "output_type": "stream",
          "text": [
            "100%|██████████| 77/77 [08:57<00:00,  6.98s/it]\n"
          ]
        },
        {
          "metadata": {
            "tags": null
          },
          "name": "stdout",
          "output_type": "stream",
          "text": [
            "Train Loss: 1.6419 | Val Loss: 0.9789 | Val Acc: 67.54%\n",
            "\n",
            "Epoch [2/50]\n"
          ]
        },
        {
          "metadata": {
            "tags": null
          },
          "name": "stderr",
          "output_type": "stream",
          "text": [
            "100%|██████████| 77/77 [02:13<00:00,  1.74s/it]\n"
          ]
        },
        {
          "metadata": {
            "tags": null
          },
          "name": "stdout",
          "output_type": "stream",
          "text": [
            "Train Loss: 1.2287 | Val Loss: 0.7548 | Val Acc: 79.34%\n",
            "\n",
            "Epoch [3/50]\n"
          ]
        },
        {
          "metadata": {
            "tags": null
          },
          "name": "stderr",
          "output_type": "stream",
          "text": [
            "100%|██████████| 77/77 [02:13<00:00,  1.74s/it]\n"
          ]
        },
        {
          "metadata": {
            "tags": null
          },
          "name": "stdout",
          "output_type": "stream",
          "text": [
            "Train Loss: 1.0427 | Val Loss: 0.7514 | Val Acc: 75.41%\n",
            "\n",
            "Epoch [4/50]\n"
          ]
        },
        {
          "metadata": {
            "tags": null
          },
          "name": "stderr",
          "output_type": "stream",
          "text": [
            "100%|██████████| 77/77 [02:13<00:00,  1.74s/it]\n"
          ]
        },
        {
          "metadata": {
            "tags": null
          },
          "name": "stdout",
          "output_type": "stream",
          "text": [
            "Train Loss: 1.0674 | Val Loss: 0.7077 | Val Acc: 76.39%\n",
            "\n",
            "Epoch [5/50]\n"
          ]
        },
        {
          "metadata": {
            "tags": null
          },
          "name": "stderr",
          "output_type": "stream",
          "text": [
            "100%|██████████| 77/77 [02:13<00:00,  1.74s/it]\n"
          ]
        },
        {
          "metadata": {
            "tags": null
          },
          "name": "stdout",
          "output_type": "stream",
          "text": [
            "Train Loss: 0.9097 | Val Loss: 0.6757 | Val Acc: 80.98%\n",
            "\n",
            "Epoch [6/50]\n"
          ]
        },
        {
          "metadata": {
            "tags": null
          },
          "name": "stderr",
          "output_type": "stream",
          "text": [
            "100%|██████████| 77/77 [02:13<00:00,  1.74s/it]\n"
          ]
        },
        {
          "metadata": {
            "tags": null
          },
          "name": "stdout",
          "output_type": "stream",
          "text": [
            "Train Loss: 0.7569 | Val Loss: 0.6550 | Val Acc: 80.66%\n",
            "\n",
            "Epoch [7/50]\n"
          ]
        },
        {
          "metadata": {
            "tags": null
          },
          "name": "stderr",
          "output_type": "stream",
          "text": [
            "100%|██████████| 77/77 [02:13<00:00,  1.74s/it]\n"
          ]
        },
        {
          "metadata": {
            "tags": null
          },
          "name": "stdout",
          "output_type": "stream",
          "text": [
            "Train Loss: 0.7384 | Val Loss: 0.6149 | Val Acc: 82.62%\n",
            "\n",
            "Epoch [8/50]\n"
          ]
        },
        {
          "output_type": "stream",
          "name": "stderr",
          "text": [
            "100%|██████████| 77/77 [02:14<00:00,  1.74s/it]\n"
          ]
        },
        {
          "output_type": "stream",
          "name": "stdout",
          "text": [
            "Train Loss: 0.7525 | Val Loss: 0.5877 | Val Acc: 82.30%\n",
            "\n",
            "Epoch [9/50]\n"
          ]
        },
        {
          "output_type": "stream",
          "name": "stderr",
          "text": [
            "100%|██████████| 77/77 [02:13<00:00,  1.74s/it]\n"
          ]
        },
        {
          "output_type": "stream",
          "name": "stdout",
          "text": [
            "Train Loss: 0.6882 | Val Loss: 0.6553 | Val Acc: 81.31%\n",
            "\n",
            "Epoch [10/50]\n"
          ]
        },
        {
          "output_type": "stream",
          "name": "stderr",
          "text": [
            "100%|██████████| 77/77 [02:13<00:00,  1.74s/it]\n"
          ]
        },
        {
          "output_type": "stream",
          "name": "stdout",
          "text": [
            "Train Loss: 0.6312 | Val Loss: 0.5912 | Val Acc: 82.30%\n",
            "\n",
            "Epoch [11/50]\n"
          ]
        },
        {
          "output_type": "stream",
          "name": "stderr",
          "text": [
            "100%|██████████| 77/77 [02:14<00:00,  1.75s/it]\n"
          ]
        },
        {
          "output_type": "stream",
          "name": "stdout",
          "text": [
            "Train Loss: 0.5915 | Val Loss: 0.5736 | Val Acc: 82.95%\n",
            "\n",
            "Epoch [12/50]\n"
          ]
        },
        {
          "output_type": "stream",
          "name": "stderr",
          "text": [
            "100%|██████████| 77/77 [02:13<00:00,  1.74s/it]\n"
          ]
        },
        {
          "output_type": "stream",
          "name": "stdout",
          "text": [
            "Train Loss: 0.5740 | Val Loss: 0.6310 | Val Acc: 81.31%\n",
            "\n",
            "Epoch [13/50]\n"
          ]
        },
        {
          "output_type": "stream",
          "name": "stderr",
          "text": [
            "100%|██████████| 77/77 [02:13<00:00,  1.74s/it]\n"
          ]
        },
        {
          "output_type": "stream",
          "name": "stdout",
          "text": [
            "Train Loss: 0.5534 | Val Loss: 0.5764 | Val Acc: 83.28%\n",
            "\n",
            "Epoch [14/50]\n"
          ]
        },
        {
          "output_type": "stream",
          "name": "stderr",
          "text": [
            "100%|██████████| 77/77 [02:13<00:00,  1.74s/it]\n"
          ]
        },
        {
          "output_type": "stream",
          "name": "stdout",
          "text": [
            "Train Loss: 0.5142 | Val Loss: 0.5756 | Val Acc: 82.62%\n",
            "\n",
            "Epoch [15/50]\n"
          ]
        },
        {
          "output_type": "stream",
          "name": "stderr",
          "text": [
            "100%|██████████| 77/77 [02:14<00:00,  1.74s/it]\n"
          ]
        },
        {
          "output_type": "stream",
          "name": "stdout",
          "text": [
            "Train Loss: 0.5672 | Val Loss: 0.5837 | Val Acc: 82.95%\n",
            "\n",
            "Epoch [16/50]\n"
          ]
        },
        {
          "output_type": "stream",
          "name": "stderr",
          "text": [
            "100%|██████████| 77/77 [02:13<00:00,  1.74s/it]\n"
          ]
        },
        {
          "output_type": "stream",
          "name": "stdout",
          "text": [
            "Train Loss: 0.5373 | Val Loss: 0.5856 | Val Acc: 84.59%\n",
            "\n",
            "Epoch [17/50]\n"
          ]
        },
        {
          "output_type": "stream",
          "name": "stderr",
          "text": [
            "100%|██████████| 77/77 [02:13<00:00,  1.74s/it]\n"
          ]
        },
        {
          "output_type": "stream",
          "name": "stdout",
          "text": [
            "Train Loss: 0.4719 | Val Loss: 0.6077 | Val Acc: 82.62%\n",
            "\n",
            "Epoch [18/50]\n"
          ]
        },
        {
          "output_type": "stream",
          "name": "stderr",
          "text": [
            "100%|██████████| 77/77 [02:13<00:00,  1.74s/it]\n"
          ]
        },
        {
          "output_type": "stream",
          "name": "stdout",
          "text": [
            "Train Loss: 0.5634 | Val Loss: 0.5838 | Val Acc: 83.28%\n",
            "\n",
            "Epoch [19/50]\n"
          ]
        },
        {
          "output_type": "stream",
          "name": "stderr",
          "text": [
            "100%|██████████| 77/77 [02:13<00:00,  1.74s/it]\n"
          ]
        },
        {
          "output_type": "stream",
          "name": "stdout",
          "text": [
            "Train Loss: 0.5245 | Val Loss: 0.5845 | Val Acc: 83.61%\n",
            "\n",
            "Epoch [20/50]\n"
          ]
        },
        {
          "output_type": "stream",
          "name": "stderr",
          "text": [
            "100%|██████████| 77/77 [02:14<00:00,  1.74s/it]\n"
          ]
        },
        {
          "output_type": "stream",
          "name": "stdout",
          "text": [
            "Train Loss: 0.5632 | Val Loss: 0.5869 | Val Acc: 83.28%\n",
            "\n",
            "Epoch [21/50]\n"
          ]
        },
        {
          "output_type": "stream",
          "name": "stderr",
          "text": [
            "100%|██████████| 77/77 [02:14<00:00,  1.74s/it]\n"
          ]
        },
        {
          "output_type": "stream",
          "name": "stdout",
          "text": [
            "Train Loss: 0.4352 | Val Loss: 0.5845 | Val Acc: 82.95%\n",
            "Early stopping triggered.\n",
            "Meilleur modèle chargé (val_loss min).\n"
          ]
        }
      ]
    },
    {
      "cell_type": "code",
      "source": [
        "# Charger les meilleurs poids\n",
        "model.load_state_dict(best_weights)\n",
        "print(\"Meilleur modèle chargé (val_loss min).\")\n"
      ],
      "metadata": {
        "colab": {
          "base_uri": "https://localhost:8080/"
        },
        "id": "B_GAc161ClNH",
        "outputId": "8ba3545c-858d-4bf8-abbf-0b6ac763dfa5"
      },
      "execution_count": null,
      "outputs": [
        {
          "output_type": "stream",
          "name": "stdout",
          "text": [
            "Meilleur modèle chargé (val_loss min).\n"
          ]
        }
      ]
    },
    {
      "cell_type": "code",
      "source": [
        "torch.save(best_weights, \"convnext_best.pth\")\n",
        "print(\"Fichier convnext_best.pth sauvegardé\")\n"
      ],
      "metadata": {
        "colab": {
          "base_uri": "https://localhost:8080/"
        },
        "id": "XovQDAjvCp4y",
        "outputId": "eb0ccd84-e08a-4367-e536-4b86829e91f7"
      },
      "execution_count": null,
      "outputs": [
        {
          "output_type": "stream",
          "name": "stdout",
          "text": [
            "Fichier convnext_best.pth sauvegardé\n"
          ]
        }
      ]
    },
    {
      "cell_type": "code",
      "source": [
        "import os\n",
        "import numpy as np\n",
        "from PIL import Image\n",
        "import albumentations as A\n",
        "from albumentations.pytorch import ToTensorV2\n",
        "import torch\n",
        "import torch.nn as nn\n",
        "from torch.utils.data import Dataset, DataLoader\n",
        "from tqdm import tqdm\n",
        "import pandas as pd\n",
        "\n",
        "# [1] Si vous avez besoin de timm pour ConvNeXt\n",
        "import timm\n",
        "\n",
        "# --------------------------------------------------\n",
        "# 📦 Dataset pour test (pas de labels dans les noms)\n",
        "# --------------------------------------------------\n",
        "class ImageDatasetWithoutLabels(Dataset):\n",
        "    def __init__(self, image_dir, image_filenames, transform=None, img_size=(300,300)):\n",
        "        self.image_dir = image_dir\n",
        "        self.image_filenames = image_filenames\n",
        "        self.transform = transform\n",
        "        self.img_size = img_size\n",
        "\n",
        "    def __len__(self):\n",
        "        return len(self.image_filenames)\n",
        "\n",
        "    def __getitem__(self, idx):\n",
        "        filename = self.image_filenames[idx]\n",
        "        img_path = os.path.join(self.image_dir, filename)\n",
        "        # On ouvre l'image, on convertit en RGB, on resize\n",
        "        image = Image.open(img_path).convert(\"RGB\").resize(self.img_size)\n",
        "        image = np.array(image)\n",
        "        if self.transform:\n",
        "            image = self.transform(image=image)[\"image\"]\n",
        "        return image, filename\n",
        "\n",
        "# --------------------------------------------------\n",
        "# 🔧 Préparation\n",
        "# --------------------------------------------------\n",
        "image_dir = \"/content/drive/MyDrive/CHALLANGE IA/datatest\"  # Chemin vers votre dossier contenant les images de test\n",
        "test_files = [f for f in os.listdir(image_dir) if f.endswith(\".jpg\")]\n",
        "\n",
        "# Exemple de transformations (vous pouvez les ajuster)\n",
        "val_transform = A.Compose([\n",
        "    A.Resize(300, 300),   # Si nécessaire, sinon vous pouvez redimensionner avant\n",
        "    A.Normalize(),\n",
        "    ToTensorV2()\n",
        "])\n",
        "\n",
        "device = torch.device(\"cuda\" if torch.cuda.is_available() else \"cpu\")\n",
        "print(\"✅ Device:\", device)\n",
        "\n",
        "# --------------------------------------------------\n",
        "# 🔍 Chargement du modèle entraîné\n",
        "# --------------------------------------------------\n",
        "NUM_CLASSES = 9\n",
        "\n",
        "# Exemple: chargement d'un modèle ConvNeXt\n",
        "# (Assurez-vous d'utiliser le même modèle que lors de l'entraînement)\n",
        "model = timm.create_model(\n",
        "    'convnext_base',       # ou convnext_tiny / convnext_small / convnext_large...\n",
        "    pretrained=False,      # on charge nos poids entraînés, donc pas ImageNet\n",
        "    num_classes=NUM_CLASSES\n",
        ")\n",
        "\n",
        "# Charger les poids\n",
        "model.load_state_dict(torch.load(\"convnext_best.pth\", map_location=device))\n",
        "model = model.to(device)\n",
        "model.eval()\n",
        "print(\"✅ Modèle chargé\")\n",
        "\n",
        "# --------------------------------------------------\n",
        "# 📤 Dataset et DataLoader\n",
        "# --------------------------------------------------\n",
        "test_dataset = ImageDatasetWithoutLabels(\n",
        "    image_dir=image_dir,\n",
        "    image_filenames=test_files,\n",
        "    transform=val_transform,\n",
        "    img_size=(300, 300)    # Ajustez si votre modèle attend 224x224 ou autre\n",
        ")\n",
        "\n",
        "test_loader = DataLoader(test_dataset, batch_size=32, shuffle=False)\n",
        "print(\"✅ Test loader prêt\")\n",
        "\n",
        "# --------------------------------------------------\n",
        "# 🧠 Inférence + création de la soumission\n",
        "# --------------------------------------------------\n",
        "submission_rows = []\n",
        "\n",
        "with torch.no_grad():\n",
        "    for images, filenames in tqdm(test_loader):\n",
        "        images = images.to(device)\n",
        "        # Forward pass\n",
        "        outputs = model(images)\n",
        "        # Prédictions: argmax des logits\n",
        "        preds = torch.argmax(outputs, dim=1).cpu().numpy()\n",
        "\n",
        "        for filename, pred in zip(filenames, preds):\n",
        "            # On enlève l'extension .jpg pour l'ID\n",
        "            img_id = os.path.splitext(filename)[0]\n",
        "            submission_rows.append((img_id, pred))\n",
        "\n",
        "# --------------------------------------------------\n",
        "# 💾 Export CSV\n",
        "# --------------------------------------------------\n",
        "submission_df = pd.DataFrame(submission_rows, columns=[\"idx\", \"gt\"])\n",
        "submission_df.to_csv(\"submission_convnext.csv\", index=False)\n",
        "print(\"✅ Fichier de prédiction généré : submission_convnext.csv\")\n"
      ],
      "metadata": {
        "colab": {
          "base_uri": "https://localhost:8080/"
        },
        "id": "wT9i7eO7CQM8",
        "outputId": "e4d47a8d-9897-4a25-fb7d-0751e247d16c"
      },
      "execution_count": null,
      "outputs": [
        {
          "output_type": "stream",
          "name": "stdout",
          "text": [
            "✅ Device: cuda\n",
            "✅ Modèle chargé\n",
            "✅ Test loader prêt\n"
          ]
        },
        {
          "output_type": "stream",
          "name": "stderr",
          "text": [
            "100%|██████████| 42/42 [01:24<00:00,  2.01s/it]"
          ]
        },
        {
          "output_type": "stream",
          "name": "stdout",
          "text": [
            "✅ Fichier de prédiction généré : submission_convnext.csv\n"
          ]
        },
        {
          "output_type": "stream",
          "name": "stderr",
          "text": [
            "\n"
          ]
        }
      ]
    },
    {
      "cell_type": "code",
      "source": [
        "import torch\n",
        "import torch.nn as nn\n",
        "import torch.optim as optim\n",
        "import numpy as np\n",
        "import copy\n",
        "from tqdm import tqdm\n",
        "\n",
        "# ------------------------------------\n",
        "# 1) Geler une partie du modèle\n",
        "# ------------------------------------\n",
        "# Supposons que vous ayez un modèle 'model' déjà chargé + MixUp / CutMix configuré.\n",
        "# Par exemple, geler les 2/3 des couches:\n",
        "num_layers_to_freeze = int(len(list(model.parameters())) * 2/3)\n",
        "frozen_count = 0\n",
        "for param in model.parameters():\n",
        "    frozen_count += 1\n",
        "    if frozen_count <= num_layers_to_freeze:\n",
        "        param.requires_grad = False\n",
        "    else:\n",
        "        param.requires_grad = True\n",
        "\n",
        "# ------------------------------------\n",
        "# 2) Label smoothing\n",
        "# ------------------------------------\n",
        "# CrossEntropy avec label_smoothing\n",
        "criterion = nn.CrossEntropyLoss(label_smoothing=0.1)\n",
        "\n",
        "# ------------------------------------\n",
        "# 3) Optimiseur + Scheduler Cosine\n",
        "# ------------------------------------\n",
        "optimizer = optim.AdamW(filter(lambda p: p.requires_grad, model.parameters()), lr=1e-4, weight_decay=1e-5)\n",
        "scheduler = optim.lr_scheduler.CosineAnnealingLR(optimizer, T_max=10, eta_min=1e-6)\n",
        "\n",
        "# ------------------------------------\n",
        "# 4) Boucle d'entraînement \"Phase 1\"\n",
        "# ------------------------------------\n",
        "EPOCHS = 20\n",
        "best_val_loss = float('inf')\n",
        "best_weights = None\n",
        "patience = 5\n",
        "patience_counter = 0\n",
        "\n",
        "train_losses = []\n",
        "val_losses   = []\n",
        "val_accs     = []\n",
        "\n",
        "for epoch in range(EPOCHS):\n",
        "    print(f\"\\n[Phase 1] Epoch [{epoch+1}/{EPOCHS}]\")\n",
        "\n",
        "    # === Phase d'entraînement ===\n",
        "    model.train()\n",
        "    running_loss = 0.0\n",
        "    for images, labels in tqdm(train_loader):\n",
        "        images, labels = images.to(device), labels.to(device)\n",
        "\n",
        "        # MixUp / CutMix\n",
        "        mixed_images, mixed_labels = mixup_fn(images, labels)\n",
        "\n",
        "        optimizer.zero_grad()\n",
        "        outputs = model(mixed_images)\n",
        "        loss = criterion(outputs, mixed_labels)  # label_smoothing + MixUp => OK\n",
        "        loss.backward()\n",
        "        optimizer.step()\n",
        "\n",
        "        running_loss += loss.item()\n",
        "\n",
        "    train_loss = running_loss / len(train_loader)\n",
        "    train_losses.append(train_loss)\n",
        "\n",
        "    # === Phase de validation ===\n",
        "    model.eval()\n",
        "    val_loss = 0.0\n",
        "    correct = 0\n",
        "    total = 0\n",
        "    with torch.no_grad():\n",
        "        for images, labels in val_loader:\n",
        "            images, labels = images.to(device), labels.to(device)\n",
        "            outputs = model(images)\n",
        "            # Pour la validation, on ne fait pas de MixUp, on calcule la CE standard\n",
        "            loss_ce = nn.CrossEntropyLoss()(outputs, labels)\n",
        "            val_loss += loss_ce.item()\n",
        "\n",
        "            # Accuracy\n",
        "            _, preds = torch.max(outputs, dim=1)\n",
        "            correct += (preds == labels).sum().item()\n",
        "            total += labels.size(0)\n",
        "\n",
        "    val_loss /= len(val_loader)\n",
        "    accuracy = 100.0 * correct / total\n",
        "    val_losses.append(val_loss)\n",
        "    val_accs.append(accuracy)\n",
        "\n",
        "    print(f\"Train Loss: {train_loss:.4f} | Val Loss: {val_loss:.4f} | Val Acc: {accuracy:.2f}%\")\n",
        "\n",
        "    # Scheduler (Cosine)\n",
        "    scheduler.step()\n",
        "\n",
        "    # Early stopping\n",
        "    if val_loss < best_val_loss:\n",
        "        best_val_loss = val_loss\n",
        "        best_weights = copy.deepcopy(model.state_dict())\n",
        "        patience_counter = 0\n",
        "    else:\n",
        "        patience_counter += 1\n",
        "        if patience_counter >= patience:\n",
        "            print(\"Early stopping triggered (Phase 1).\")\n",
        "            break\n",
        "\n",
        "# Charger les meilleurs poids de la phase 1\n",
        "model.load_state_dict(best_weights)\n",
        "print(\">>> Meilleur modèle (Phase 1) chargé.\")\n",
        "\n",
        "# ----------------------------------------------------\n",
        "# 5) Défreeze TOUT le modèle => Phase 2 (fine-tuning)\n",
        "# ----------------------------------------------------\n",
        "for param in model.parameters():\n",
        "    param.requires_grad = True\n",
        "\n",
        "# On définit un nouvel optim + scheduler (LR plus bas)\n",
        "optimizer = optim.AdamW(model.parameters(), lr=1e-5, weight_decay=1e-5)\n",
        "scheduler2 = optim.lr_scheduler.CosineAnnealingLR(optimizer, T_max=20, eta_min=1e-6)\n",
        "\n",
        "EPOCHS2 = 30\n",
        "best_val_loss2 = float('inf')\n",
        "best_weights2 = None\n",
        "patience_counter2 = 0\n",
        "\n",
        "for epoch in range(EPOCHS2):\n",
        "    print(f\"\\n[Phase 2] Epoch [{epoch+1}/{EPOCHS2}]\")\n",
        "\n",
        "    # === Train ===\n",
        "    model.train()\n",
        "    running_loss = 0.0\n",
        "    for images, labels in tqdm(train_loader):\n",
        "        images, labels = images.to(device), labels.to(device)\n",
        "\n",
        "        # MixUp / CutMix\n",
        "        mixed_images, mixed_labels = mixup_fn(images, labels)\n",
        "\n",
        "        optimizer.zero_grad()\n",
        "        outputs = model(mixed_images)\n",
        "        loss = criterion(outputs, mixed_labels)\n",
        "        loss.backward()\n",
        "        optimizer.step()\n",
        "\n",
        "        running_loss += loss.item()\n",
        "\n",
        "    train_loss = running_loss / len(train_loader)\n",
        "\n",
        "    # === Val ===\n",
        "    model.eval()\n",
        "    val_loss = 0.0\n",
        "    correct = 0\n",
        "    total = 0\n",
        "    with torch.no_grad():\n",
        "        for images, labels in val_loader:\n",
        "            images, labels = images.to(device), labels.to(device)\n",
        "            outputs = model(images)\n",
        "            loss_ce = nn.CrossEntropyLoss()(outputs, labels)\n",
        "            val_loss += loss_ce.item()\n",
        "\n",
        "            _, preds = torch.max(outputs, dim=1)\n",
        "            correct += (preds == labels).sum().item()\n",
        "            total += labels.size(0)\n",
        "\n",
        "    val_loss /= len(val_loader)\n",
        "    accuracy = 100.0 * correct / total\n",
        "\n",
        "    print(f\"Train Loss: {train_loss:.4f} | Val Loss: {val_loss:.4f} | Val Acc: {accuracy:.2f}%\")\n",
        "\n",
        "    scheduler2.step()\n",
        "\n",
        "    # Early stopping\n",
        "    if val_loss < best_val_loss2:\n",
        "        best_val_loss2 = val_loss\n",
        "        best_weights2 = copy.deepcopy(model.state_dict())\n",
        "        patience_counter2 = 0\n",
        "    else:\n",
        "        patience_counter2 += 1\n",
        "        if patience_counter2 >= patience:\n",
        "            print(\"Early stopping triggered (Phase 2).\")\n",
        "            break\n",
        "\n",
        "model.load_state_dict(best_weights2)\n",
        "print(\">>> Meilleur modèle (Phase 2) chargé.\")\n",
        "\n",
        "# ----------------------------------------\n",
        "# 6) Sauvegarde du modèle final sur disque\n",
        "# ----------------------------------------\n",
        "torch.save(model.state_dict(), \"model_finetuned_mixup.pth\")\n",
        "print(\">>> Fichier model_finetuned_mixup.pth sauvegardé\")\n",
        "\n",
        "# ----------------------------------------\n",
        "# 7) Visualisation des courbes (optionnel)\n",
        "# ----------------------------------------\n",
        "import matplotlib.pyplot as plt\n",
        "\n",
        "plt.figure()\n",
        "plt.plot(train_losses, label=\"Train Loss (Phase 1)\")\n",
        "# NB : vous pouvez fusionner ou distinguer Phase 2, etc.\n",
        "plt.title(\"Évolution de la Loss en Phase 1\")\n",
        "plt.legend()\n",
        "plt.show()\n"
      ],
      "metadata": {
        "colab": {
          "base_uri": "https://localhost:8080/",
          "height": 1000
        },
        "id": "rY_GnbtWDm8o",
        "outputId": "3e11ed4a-228a-4d21-8326-67bd4d1a3edd"
      },
      "execution_count": 11,
      "outputs": [
        {
          "output_type": "stream",
          "name": "stdout",
          "text": [
            "\n",
            "[Phase 1] Epoch [1/20]\n"
          ]
        },
        {
          "output_type": "stream",
          "name": "stderr",
          "text": [
            "100%|██████████| 77/77 [00:44<00:00,  1.72it/s]\n"
          ]
        },
        {
          "output_type": "stream",
          "name": "stdout",
          "text": [
            "Train Loss: 1.8309 | Val Loss: 1.0905 | Val Acc: 60.98%\n",
            "\n",
            "[Phase 1] Epoch [2/20]\n"
          ]
        },
        {
          "output_type": "stream",
          "name": "stderr",
          "text": [
            "100%|██████████| 77/77 [00:45<00:00,  1.70it/s]\n"
          ]
        },
        {
          "output_type": "stream",
          "name": "stdout",
          "text": [
            "Train Loss: 1.4354 | Val Loss: 0.8567 | Val Acc: 77.05%\n",
            "\n",
            "[Phase 1] Epoch [3/20]\n"
          ]
        },
        {
          "output_type": "stream",
          "name": "stderr",
          "text": [
            "100%|██████████| 77/77 [00:45<00:00,  1.69it/s]\n"
          ]
        },
        {
          "output_type": "stream",
          "name": "stdout",
          "text": [
            "Train Loss: 1.3318 | Val Loss: 0.8106 | Val Acc: 74.75%\n",
            "\n",
            "[Phase 1] Epoch [4/20]\n"
          ]
        },
        {
          "output_type": "stream",
          "name": "stderr",
          "text": [
            "100%|██████████| 77/77 [00:44<00:00,  1.72it/s]\n"
          ]
        },
        {
          "output_type": "stream",
          "name": "stdout",
          "text": [
            "Train Loss: 1.3415 | Val Loss: 0.7857 | Val Acc: 77.38%\n",
            "\n",
            "[Phase 1] Epoch [5/20]\n"
          ]
        },
        {
          "output_type": "stream",
          "name": "stderr",
          "text": [
            "100%|██████████| 77/77 [00:44<00:00,  1.72it/s]\n"
          ]
        },
        {
          "output_type": "stream",
          "name": "stdout",
          "text": [
            "Train Loss: 1.2517 | Val Loss: 0.7384 | Val Acc: 78.03%\n",
            "\n",
            "[Phase 1] Epoch [6/20]\n"
          ]
        },
        {
          "output_type": "stream",
          "name": "stderr",
          "text": [
            "100%|██████████| 77/77 [00:45<00:00,  1.71it/s]\n"
          ]
        },
        {
          "output_type": "stream",
          "name": "stdout",
          "text": [
            "Train Loss: 1.1110 | Val Loss: 0.7024 | Val Acc: 80.33%\n",
            "\n",
            "[Phase 1] Epoch [7/20]\n"
          ]
        },
        {
          "output_type": "stream",
          "name": "stderr",
          "text": [
            "100%|██████████| 77/77 [00:45<00:00,  1.69it/s]\n"
          ]
        },
        {
          "output_type": "stream",
          "name": "stdout",
          "text": [
            "Train Loss: 1.1008 | Val Loss: 0.7019 | Val Acc: 79.67%\n",
            "\n",
            "[Phase 1] Epoch [8/20]\n"
          ]
        },
        {
          "output_type": "stream",
          "name": "stderr",
          "text": [
            "100%|██████████| 77/77 [00:45<00:00,  1.70it/s]\n"
          ]
        },
        {
          "output_type": "stream",
          "name": "stdout",
          "text": [
            "Train Loss: 1.0801 | Val Loss: 0.6775 | Val Acc: 80.98%\n",
            "\n",
            "[Phase 1] Epoch [9/20]\n"
          ]
        },
        {
          "output_type": "stream",
          "name": "stderr",
          "text": [
            "100%|██████████| 77/77 [00:45<00:00,  1.71it/s]\n"
          ]
        },
        {
          "output_type": "stream",
          "name": "stdout",
          "text": [
            "Train Loss: 1.0650 | Val Loss: 0.6842 | Val Acc: 80.98%\n",
            "\n",
            "[Phase 1] Epoch [10/20]\n"
          ]
        },
        {
          "output_type": "stream",
          "name": "stderr",
          "text": [
            "100%|██████████| 77/77 [00:45<00:00,  1.69it/s]\n"
          ]
        },
        {
          "output_type": "stream",
          "name": "stdout",
          "text": [
            "Train Loss: 1.1153 | Val Loss: 0.6868 | Val Acc: 80.98%\n",
            "\n",
            "[Phase 1] Epoch [11/20]\n"
          ]
        },
        {
          "output_type": "stream",
          "name": "stderr",
          "text": [
            "100%|██████████| 77/77 [00:45<00:00,  1.70it/s]\n"
          ]
        },
        {
          "output_type": "stream",
          "name": "stdout",
          "text": [
            "Train Loss: 1.0315 | Val Loss: 0.6852 | Val Acc: 81.31%\n",
            "\n",
            "[Phase 1] Epoch [12/20]\n"
          ]
        },
        {
          "output_type": "stream",
          "name": "stderr",
          "text": [
            "100%|██████████| 77/77 [00:46<00:00,  1.66it/s]\n"
          ]
        },
        {
          "output_type": "stream",
          "name": "stdout",
          "text": [
            "Train Loss: 1.0834 | Val Loss: 0.6876 | Val Acc: 80.33%\n",
            "\n",
            "[Phase 1] Epoch [13/20]\n"
          ]
        },
        {
          "output_type": "stream",
          "name": "stderr",
          "text": [
            "100%|██████████| 77/77 [00:45<00:00,  1.70it/s]\n"
          ]
        },
        {
          "output_type": "stream",
          "name": "stdout",
          "text": [
            "Train Loss: 1.0545 | Val Loss: 0.6830 | Val Acc: 80.00%\n",
            "Early stopping triggered (Phase 1).\n",
            ">>> Meilleur modèle (Phase 1) chargé.\n",
            "\n",
            "[Phase 2] Epoch [1/30]\n"
          ]
        },
        {
          "output_type": "stream",
          "name": "stderr",
          "text": [
            "100%|██████████| 77/77 [02:14<00:00,  1.74s/it]\n"
          ]
        },
        {
          "output_type": "stream",
          "name": "stdout",
          "text": [
            "Train Loss: 1.0629 | Val Loss: 0.6744 | Val Acc: 81.31%\n",
            "\n",
            "[Phase 2] Epoch [2/30]\n"
          ]
        },
        {
          "output_type": "stream",
          "name": "stderr",
          "text": [
            "100%|██████████| 77/77 [02:14<00:00,  1.74s/it]\n"
          ]
        },
        {
          "output_type": "stream",
          "name": "stdout",
          "text": [
            "Train Loss: 1.0969 | Val Loss: 0.6786 | Val Acc: 81.64%\n",
            "\n",
            "[Phase 2] Epoch [3/30]\n"
          ]
        },
        {
          "output_type": "stream",
          "name": "stderr",
          "text": [
            "100%|██████████| 77/77 [02:14<00:00,  1.74s/it]\n"
          ]
        },
        {
          "output_type": "stream",
          "name": "stdout",
          "text": [
            "Train Loss: 1.0746 | Val Loss: 0.6832 | Val Acc: 80.98%\n",
            "\n",
            "[Phase 2] Epoch [4/30]\n"
          ]
        },
        {
          "output_type": "stream",
          "name": "stderr",
          "text": [
            "100%|██████████| 77/77 [02:14<00:00,  1.75s/it]\n"
          ]
        },
        {
          "output_type": "stream",
          "name": "stdout",
          "text": [
            "Train Loss: 1.0348 | Val Loss: 0.6956 | Val Acc: 80.00%\n",
            "\n",
            "[Phase 2] Epoch [5/30]\n"
          ]
        },
        {
          "output_type": "stream",
          "name": "stderr",
          "text": [
            "100%|██████████| 77/77 [02:14<00:00,  1.74s/it]\n"
          ]
        },
        {
          "output_type": "stream",
          "name": "stdout",
          "text": [
            "Train Loss: 1.1134 | Val Loss: 0.6776 | Val Acc: 80.98%\n",
            "\n",
            "[Phase 2] Epoch [6/30]\n"
          ]
        },
        {
          "output_type": "stream",
          "name": "stderr",
          "text": [
            "100%|██████████| 77/77 [02:13<00:00,  1.74s/it]\n"
          ]
        },
        {
          "output_type": "stream",
          "name": "stdout",
          "text": [
            "Train Loss: 1.0106 | Val Loss: 0.6570 | Val Acc: 80.66%\n",
            "\n",
            "[Phase 2] Epoch [7/30]\n"
          ]
        },
        {
          "output_type": "stream",
          "name": "stderr",
          "text": [
            "100%|██████████| 77/77 [02:14<00:00,  1.75s/it]\n"
          ]
        },
        {
          "output_type": "stream",
          "name": "stdout",
          "text": [
            "Train Loss: 0.9560 | Val Loss: 0.6608 | Val Acc: 80.33%\n",
            "\n",
            "[Phase 2] Epoch [8/30]\n"
          ]
        },
        {
          "output_type": "stream",
          "name": "stderr",
          "text": [
            "100%|██████████| 77/77 [02:14<00:00,  1.74s/it]\n"
          ]
        },
        {
          "output_type": "stream",
          "name": "stdout",
          "text": [
            "Train Loss: 0.9947 | Val Loss: 0.6543 | Val Acc: 81.97%\n",
            "\n",
            "[Phase 2] Epoch [9/30]\n"
          ]
        },
        {
          "output_type": "stream",
          "name": "stderr",
          "text": [
            "100%|██████████| 77/77 [02:14<00:00,  1.74s/it]\n"
          ]
        },
        {
          "output_type": "stream",
          "name": "stdout",
          "text": [
            "Train Loss: 0.9743 | Val Loss: 0.6590 | Val Acc: 81.31%\n",
            "\n",
            "[Phase 2] Epoch [10/30]\n"
          ]
        },
        {
          "output_type": "stream",
          "name": "stderr",
          "text": [
            "100%|██████████| 77/77 [02:14<00:00,  1.75s/it]\n"
          ]
        },
        {
          "output_type": "stream",
          "name": "stdout",
          "text": [
            "Train Loss: 0.9927 | Val Loss: 0.6493 | Val Acc: 80.98%\n",
            "\n",
            "[Phase 2] Epoch [11/30]\n"
          ]
        },
        {
          "output_type": "stream",
          "name": "stderr",
          "text": [
            "100%|██████████| 77/77 [02:14<00:00,  1.74s/it]\n"
          ]
        },
        {
          "output_type": "stream",
          "name": "stdout",
          "text": [
            "Train Loss: 0.9520 | Val Loss: 0.6530 | Val Acc: 80.33%\n",
            "\n",
            "[Phase 2] Epoch [12/30]\n"
          ]
        },
        {
          "output_type": "stream",
          "name": "stderr",
          "text": [
            "100%|██████████| 77/77 [02:14<00:00,  1.74s/it]\n"
          ]
        },
        {
          "output_type": "stream",
          "name": "stdout",
          "text": [
            "Train Loss: 0.9843 | Val Loss: 0.6353 | Val Acc: 82.30%\n",
            "\n",
            "[Phase 2] Epoch [13/30]\n"
          ]
        },
        {
          "output_type": "stream",
          "name": "stderr",
          "text": [
            "100%|██████████| 77/77 [02:14<00:00,  1.74s/it]\n"
          ]
        },
        {
          "output_type": "stream",
          "name": "stdout",
          "text": [
            "Train Loss: 0.9892 | Val Loss: 0.6389 | Val Acc: 80.66%\n",
            "\n",
            "[Phase 2] Epoch [14/30]\n"
          ]
        },
        {
          "output_type": "stream",
          "name": "stderr",
          "text": [
            "100%|██████████| 77/77 [02:14<00:00,  1.74s/it]\n"
          ]
        },
        {
          "output_type": "stream",
          "name": "stdout",
          "text": [
            "Train Loss: 0.9943 | Val Loss: 0.6390 | Val Acc: 80.98%\n",
            "\n",
            "[Phase 2] Epoch [15/30]\n"
          ]
        },
        {
          "output_type": "stream",
          "name": "stderr",
          "text": [
            "100%|██████████| 77/77 [02:14<00:00,  1.75s/it]\n"
          ]
        },
        {
          "output_type": "stream",
          "name": "stdout",
          "text": [
            "Train Loss: 1.0720 | Val Loss: 0.6450 | Val Acc: 80.66%\n",
            "\n",
            "[Phase 2] Epoch [16/30]\n"
          ]
        },
        {
          "output_type": "stream",
          "name": "stderr",
          "text": [
            "100%|██████████| 77/77 [02:14<00:00,  1.75s/it]\n"
          ]
        },
        {
          "output_type": "stream",
          "name": "stdout",
          "text": [
            "Train Loss: 0.9780 | Val Loss: 0.6455 | Val Acc: 80.33%\n",
            "\n",
            "[Phase 2] Epoch [17/30]\n"
          ]
        },
        {
          "output_type": "stream",
          "name": "stderr",
          "text": [
            "100%|██████████| 77/77 [02:14<00:00,  1.75s/it]\n"
          ]
        },
        {
          "output_type": "stream",
          "name": "stdout",
          "text": [
            "Train Loss: 0.9732 | Val Loss: 0.6402 | Val Acc: 81.31%\n",
            "Early stopping triggered (Phase 2).\n",
            ">>> Meilleur modèle (Phase 2) chargé.\n",
            ">>> Fichier model_finetuned_mixup.pth sauvegardé\n"
          ]
        },
        {
          "output_type": "display_data",
          "data": {
            "text/plain": [
              "<Figure size 640x480 with 1 Axes>"
            ],
            "image/png": "[encoded data removed]"
          },
          "metadata": {}
        }
      ]
    },
    {
      "cell_type": "code",
      "source": [
        "import os\n",
        "import numpy as np\n",
        "from PIL import Image\n",
        "import albumentations as A\n",
        "from albumentations.pytorch import ToTensorV2\n",
        "import torch\n",
        "import torch.nn as nn\n",
        "from torch.utils.data import Dataset, DataLoader\n",
        "from tqdm import tqdm\n",
        "import pandas as pd\n",
        "import timm  # si vous utilisez ConvNeXt ou un autre modèle timm\n",
        "\n",
        "# --------------------------------------------------\n",
        "# 📦 Dataset pour test (pas de labels dans les noms)\n",
        "# --------------------------------------------------\n",
        "class ImageDatasetWithoutLabels(Dataset):\n",
        "    def __init__(self, image_dir, image_filenames, transform=None, img_size=(300,300)):\n",
        "        self.image_dir = image_dir\n",
        "        self.image_filenames = image_filenames\n",
        "        self.transform = transform\n",
        "        self.img_size = img_size\n",
        "\n",
        "    def __len__(self):\n",
        "        return len(self.image_filenames)\n",
        "\n",
        "    def __getitem__(self, idx):\n",
        "        filename = self.image_filenames[idx]\n",
        "        img_path = os.path.join(self.image_dir, filename)\n",
        "\n",
        "        # Ouverture, conversion en RGB, resize\n",
        "        image = Image.open(img_path).convert(\"RGB\").resize(self.img_size)\n",
        "        image = np.array(image)\n",
        "\n",
        "        if self.transform:\n",
        "            image = self.transform(image=image)[\"image\"]\n",
        "        return image, filename\n",
        "\n",
        "# --------------------------------------------------\n",
        "# 🔧 Préparation\n",
        "# --------------------------------------------------\n",
        "image_dir = \"/content/drive/MyDrive/datatest\"\n",
        "# Chemin vers votre dossier contenant les images de test\n",
        "\n",
        "test_files = [f for f in os.listdir(image_dir) if f.endswith(\".jpg\")]\n",
        "print(f\"Nombre d'images trouvées: {len(test_files)}\")\n",
        "\n",
        "# Exemple de transformations (à ajuster selon votre entraînement)\n",
        "val_transform = A.Compose([\n",
        "    A.Resize(300, 300),  # même taille que lors de l'entraînement\n",
        "    A.Normalize(),\n",
        "    ToTensorV2()\n",
        "])\n",
        "\n",
        "device = torch.device(\"cuda\" if torch.cuda.is_available() else \"cpu\")\n",
        "print(\"✅ Device:\", device)\n",
        "\n",
        "# --------------------------------------------------\n",
        "# 🔍 Chargement du modèle entraîné\n",
        "# --------------------------------------------------\n",
        "NUM_CLASSES = 9\n",
        "\n",
        "# Remplacez 'convnext_base' par l'architecture exacte\n",
        "# utilisée lors de l'entraînement si nécessaire\n",
        "model = timm.create_model(\n",
        "    'convnext_base',  # ou convnext_tiny, convnext_small, etc.\n",
        "    pretrained=False, # on charge nos poids persos, donc pas les poids ImageNet\n",
        "    num_classes=NUM_CLASSES\n",
        ")\n",
        "\n",
        "# Charger les poids depuis votre fichier\n",
        "# (ici on suppose que vous avez sauvegardé sous \"model_finetuned_mixup.pth\")\n",
        "state_dict = torch.load(\"model_finetuned_mixup.pth\", map_location=device)\n",
        "model.load_state_dict(state_dict)\n",
        "\n",
        "model.to(device)\n",
        "model.eval()\n",
        "print(\"✅ Modèle chargé et prêt pour l'inférence\")\n",
        "\n",
        "# --------------------------------------------------\n",
        "# 📤 Dataset et DataLoader\n",
        "# --------------------------------------------------\n",
        "test_dataset = ImageDatasetWithoutLabels(\n",
        "    image_dir=image_dir,\n",
        "    image_filenames=test_files,\n",
        "    transform=val_transform,\n",
        "    img_size=(300, 300)  # Ajustez si votre modèle attend 224x224 ou autre\n",
        ")\n",
        "\n",
        "test_loader = DataLoader(test_dataset, batch_size=32, shuffle=False)\n",
        "print(\"✅ Test loader prêt\")\n",
        "\n",
        "# --------------------------------------------------\n",
        "# 🧠 Inférence + création de la soumission\n",
        "# --------------------------------------------------\n",
        "submission_rows = []\n",
        "\n",
        "with torch.no_grad():\n",
        "    for images, filenames in tqdm(test_loader):\n",
        "        images = images.to(device)\n",
        "\n",
        "        # Forward pass\n",
        "        outputs = model(images)\n",
        "\n",
        "        # Prédictions: argmax des logits\n",
        "        preds = torch.argmax(outputs, dim=1).cpu().numpy()\n",
        "\n",
        "        for filename, pred in zip(filenames, preds):\n",
        "            # On enlève l'extension .jpg pour faire un ID plus propre\n",
        "            img_id = os.path.splitext(filename)[0]\n",
        "            submission_rows.append((img_id, pred))\n",
        "\n",
        "# --------------------------------------------------\n",
        "# 💾 Export CSV\n",
        "# --------------------------------------------------\n",
        "submission_df = pd.DataFrame(submission_rows, columns=[\"idx\", \"gt\"])\n",
        "submission_df.to_csv(\"submission_convnext1.csv\", index=False)\n",
        "print(\"✅ Fichier de prédiction généré : submission_convnext.csv\")\n"
      ],
      "metadata": {
        "colab": {
          "base_uri": "https://localhost:8080/"
        },
        "id": "53tTLiiGV7CB",
        "outputId": "418a139e-4100-434b-c1ac-f7597dde5cd7"
      },
      "execution_count": 13,
      "outputs": [
        {
          "output_type": "stream",
          "name": "stdout",
          "text": [
            "Nombre d'images trouvées: 1344\n",
            "✅ Device: cuda\n",
            "✅ Modèle chargé et prêt pour l'inférence\n",
            "✅ Test loader prêt\n"
          ]
        },
        {
          "output_type": "stream",
          "name": "stderr",
          "text": [
            "100%|██████████| 42/42 [01:20<00:00,  1.92s/it]"
          ]
        },
        {
          "output_type": "stream",
          "name": "stdout",
          "text": [
            "✅ Fichier de prédiction généré : submission_convnext.csv\n"
          ]
        },
        {
          "output_type": "stream",
          "name": "stderr",
          "text": [
            "\n"
          ]
        }
      ]
    }
  ],
  "metadata": {
    "kernelspec": {
      "display_name": "Python 3",
      "name": "python3"
    },
    "language_info": {
      "codemirror_mode": {
        "name": "ipython",
        "version": 3
      },
      "file_extension": ".py",
      "mimetype": "text/x-python",
      "name": "python",
      "nbconvert_exporter": "python",
      "pygments_lexer": "ipython3",
      "version": "3.9.16"
    },
    "colab": {
      "provenance": [],
      "gpuType": "T4"
    },
    "accelerator": "GPU",
    "widgets": {
      "application/vnd.jupyter.widget-state+json": {
        "645f84f6ee034174a95d1e783b03821c": {
          "model_module": "@jupyter-widgets/controls",
          "model_name": "HBoxModel",
          "model_module_version": "1.5.0",
          "state": {
            "_dom_classes": [],
            "_model_module": "@jupyter-widgets/controls",
            "_model_module_version": "1.5.0",
            "_model_name": "HBoxModel",
            "_view_count": null,
            "_view_module": "@jupyter-widgets/controls",
            "_view_module_version": "1.5.0",
            "_view_name": "HBoxView",
            "box_style": "",
            "children": [
              "IPY_MODEL_0fb4eb39a32d4ccc8a6a746e9bad42b9",
              "IPY_MODEL_778e6e7ea2134030866c8c4fcb90799e",
              "IPY_MODEL_e7037a9471014fbe9e769cfc484e0199"
            ],
            "layout": "IPY_MODEL_a724eb97b3b14c45b7b947e8cecc6e39"
          }
        },
        "0fb4eb39a32d4ccc8a6a746e9bad42b9": {
          "model_module": "@jupyter-widgets/controls",
          "model_name": "HTMLModel",
          "model_module_version": "1.5.0",
          "state": {
            "_dom_classes": [],
            "_model_module": "@jupyter-widgets/controls",
            "_model_module_version": "1.5.0",
            "_model_name": "HTMLModel",
            "_view_count": null,
            "_view_module": "@jupyter-widgets/controls",
            "_view_module_version": "1.5.0",
            "_view_name": "HTMLView",
            "description": "",
            "description_tooltip": null,
            "layout": "IPY_MODEL_490d0277e1ae401796f247b786ec370f",
            "placeholder": "​",
            "style": "IPY_MODEL_76ad502da13f465b82c80a0d48748037",
            "value": "model.safetensors: 100%"
          }
        },
        "778e6e7ea2134030866c8c4fcb90799e": {
          "model_module": "@jupyter-widgets/controls",
          "model_name": "FloatProgressModel",
          "model_module_version": "1.5.0",
          "state": {
            "_dom_classes": [],
            "_model_module": "@jupyter-widgets/controls",
            "_model_module_version": "1.5.0",
            "_model_name": "FloatProgressModel",
            "_view_count": null,
            "_view_module": "@jupyter-widgets/controls",
            "_view_module_version": "1.5.0",
            "_view_name": "ProgressView",
            "bar_style": "success",
            "description": "",
            "description_tooltip": null,
            "layout": "IPY_MODEL_fd81b1252d294237bdbe822eba1ef8e0",
            "max": 354400320,
            "min": 0,
            "orientation": "horizontal",
            "style": "IPY_MODEL_f9adf23f53e9447583dbcfff620788dd",
            "value": 354400320
          }
        },
        "e7037a9471014fbe9e769cfc484e0199": {
          "model_module": "@jupyter-widgets/controls",
          "model_name": "HTMLModel",
          "model_module_version": "1.5.0",
          "state": {
            "_dom_classes": [],
            "_model_module": "@jupyter-widgets/controls",
            "_model_module_version": "1.5.0",
            "_model_name": "HTMLModel",
            "_view_count": null,
            "_view_module": "@jupyter-widgets/controls",
            "_view_module_version": "1.5.0",
            "_view_name": "HTMLView",
            "description": "",
            "description_tooltip": null,
            "layout": "IPY_MODEL_8f500f37e9ff46009f1bcf7977cf7973",
            "placeholder": "​",
            "style": "IPY_MODEL_55ea3ad9d06e47eca8e2b259f519b829",
            "value": " 354M/354M [00:01&lt;00:00, 232MB/s]"
          }
        },
        "a724eb97b3b14c45b7b947e8cecc6e39": {
          "model_module": "@jupyter-widgets/base",
          "model_name": "LayoutModel",
          "model_module_version": "1.2.0",
          "state": {
            "_model_module": "@jupyter-widgets/base",
            "_model_module_version": "1.2.0",
            "_model_name": "LayoutModel",
            "_view_count": null,
            "_view_module": "@jupyter-widgets/base",
            "_view_module_version": "1.2.0",
            "_view_name": "LayoutView",
            "align_content": null,
            "align_items": null,
            "align_self": null,
            "border": null,
            "bottom": null,
            "display": null,
            "flex": null,
            "flex_flow": null,
            "grid_area": null,
            "grid_auto_columns": null,
            "grid_auto_flow": null,
            "grid_auto_rows": null,
            "grid_column": null,
            "grid_gap": null,
            "grid_row": null,
            "grid_template_areas": null,
            "grid_template_columns": null,
            "grid_template_rows": null,
            "height": null,
            "justify_content": null,
            "justify_items": null,
            "left": null,
            "margin": null,
            "max_height": null,
            "max_width": null,
            "min_height": null,
            "min_width": null,
            "object_fit": null,
            "object_position": null,
            "order": null,
            "overflow": null,
            "overflow_x": null,
            "overflow_y": null,
            "padding": null,
            "right": null,
            "top": null,
            "visibility": null,
            "width": null
          }
        },
        "490d0277e1ae401796f247b786ec370f": {
          "model_module": "@jupyter-widgets/base",
          "model_name": "LayoutModel",
          "model_module_version": "1.2.0",
          "state": {
            "_model_module": "@jupyter-widgets/base",
            "_model_module_version": "1.2.0",
            "_model_name": "LayoutModel",
            "_view_count": null,
            "_view_module": "@jupyter-widgets/base",
            "_view_module_version": "1.2.0",
            "_view_name": "LayoutView",
            "align_content": null,
            "align_items": null,
            "align_self": null,
            "border": null,
            "bottom": null,
            "display": null,
            "flex": null,
            "flex_flow": null,
            "grid_area": null,
            "grid_auto_columns": null,
            "grid_auto_flow": null,
            "grid_auto_rows": null,
            "grid_column": null,
            "grid_gap": null,
            "grid_row": null,
            "grid_template_areas": null,
            "grid_template_columns": null,
            "grid_template_rows": null,
            "height": null,
            "justify_content": null,
            "justify_items": null,
            "left": null,
            "margin": null,
            "max_height": null,
            "max_width": null,
            "min_height": null,
            "min_width": null,
            "object_fit": null,
            "object_position": null,
            "order": null,
            "overflow": null,
            "overflow_x": null,
            "overflow_y": null,
            "padding": null,
            "right": null,
            "top": null,
            "visibility": null,
            "width": null
          }
        },
        "76ad502da13f465b82c80a0d48748037": {
          "model_module": "@jupyter-widgets/controls",
          "model_name": "DescriptionStyleModel",
          "model_module_version": "1.5.0",
          "state": {
            "_model_module": "@jupyter-widgets/controls",
            "_model_module_version": "1.5.0",
            "_model_name": "DescriptionStyleModel",
            "_view_count": null,
            "_view_module": "@jupyter-widgets/base",
            "_view_module_version": "1.2.0",
            "_view_name": "StyleView",
            "description_width": ""
          }
        },
        "fd81b1252d294237bdbe822eba1ef8e0": {
          "model_module": "@jupyter-widgets/base",
          "model_name": "LayoutModel",
          "model_module_version": "1.2.0",
          "state": {
            "_model_module": "@jupyter-widgets/base",
            "_model_module_version": "1.2.0",
            "_model_name": "LayoutModel",
            "_view_count": null,
            "_view_module": "@jupyter-widgets/base",
            "_view_module_version": "1.2.0",
            "_view_name": "LayoutView",
            "align_content": null,
            "align_items": null,
            "align_self": null,
            "border": null,
            "bottom": null,
            "display": null,
            "flex": null,
            "flex_flow": null,
            "grid_area": null,
            "grid_auto_columns": null,
            "grid_auto_flow": null,
            "grid_auto_rows": null,
            "grid_column": null,
            "grid_gap": null,
            "grid_row": null,
            "grid_template_areas": null,
            "grid_template_columns": null,
            "grid_template_rows": null,
            "height": null,
            "justify_content": null,
            "justify_items": null,
            "left": null,
            "margin": null,
            "max_height": null,
            "max_width": null,
            "min_height": null,
            "min_width": null,
            "object_fit": null,
            "object_position": null,
            "order": null,
            "overflow": null,
            "overflow_x": null,
            "overflow_y": null,
            "padding": null,
            "right": null,
            "top": null,
            "visibility": null,
            "width": null
          }
        },
        "f9adf23f53e9447583dbcfff620788dd": {
          "model_module": "@jupyter-widgets/controls",
          "model_name": "ProgressStyleModel",
          "model_module_version": "1.5.0",
          "state": {
            "_model_module": "@jupyter-widgets/controls",
            "_model_module_version": "1.5.0",
            "_model_name": "ProgressStyleModel",
            "_view_count": null,
            "_view_module": "@jupyter-widgets/base",
            "_view_module_version": "1.2.0",
            "_view_name": "StyleView",
            "bar_color": null,
            "description_width": ""
          }
        },
        "8f500f37e9ff46009f1bcf7977cf7973": {
          "model_module": "@jupyter-widgets/base",
          "model_name": "LayoutModel",
          "model_module_version": "1.2.0",
          "state": {
            "_model_module": "@jupyter-widgets/base",
            "_model_module_version": "1.2.0",
            "_model_name": "LayoutModel",
            "_view_count": null,
            "_view_module": "@jupyter-widgets/base",
            "_view_module_version": "1.2.0",
            "_view_name": "LayoutView",
            "align_content": null,
            "align_items": null,
            "align_self": null,
            "border": null,
            "bottom": null,
            "display": null,
            "flex": null,
            "flex_flow": null,
            "grid_area": null,
            "grid_auto_columns": null,
            "grid_auto_flow": null,
            "grid_auto_rows": null,
            "grid_column": null,
            "grid_gap": null,
            "grid_row": null,
            "grid_template_areas": null,
            "grid_template_columns": null,
            "grid_template_rows": null,
            "height": null,
            "justify_content": null,
            "justify_items": null,
            "left": null,
            "margin": null,
            "max_height": null,
            "max_width": null,
            "min_height": null,
            "min_width": null,
            "object_fit": null,
            "object_position": null,
            "order": null,
            "overflow": null,
            "overflow_x": null,
            "overflow_y": null,
            "padding": null,
            "right": null,
            "top": null,
            "visibility": null,
            "width": null
          }
        },
        "55ea3ad9d06e47eca8e2b259f519b829": {
          "model_module": "@jupyter-widgets/controls",
          "model_name": "DescriptionStyleModel",
          "model_module_version": "1.5.0",
          "state": {
            "_model_module": "@jupyter-widgets/controls",
            "_model_module_version": "1.5.0",
            "_model_name": "DescriptionStyleModel",
            "_view_count": null,
            "_view_module": "@jupyter-widgets/base",
            "_view_module_version": "1.2.0",
            "_view_name": "StyleView",
            "description_width": ""
          }
        }
      }
    }
  },
  "nbformat": 4,
  "nbformat_minor": 0
}